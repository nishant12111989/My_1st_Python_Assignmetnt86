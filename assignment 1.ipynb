{
 "cells": [
  {
   "cell_type": "code",
   "execution_count": 2,
   "id": "6636d2ab-20e4-4d59-b631-9be707c480f8",
   "metadata": {},
   "outputs": [],
   "source": [
    "a=1"
   ]
  },
  {
   "cell_type": "code",
   "execution_count": 3,
   "id": "b24282de-d455-4a71-93a6-699e48428638",
   "metadata": {},
   "outputs": [
    {
     "data": {
      "text/plain": [
       "1"
      ]
     },
     "execution_count": 3,
     "metadata": {},
     "output_type": "execute_result"
    }
   ],
   "source": [
    "a"
   ]
  },
  {
   "cell_type": "code",
   "execution_count": 4,
   "id": "4a48244a-92ab-492d-95ad-2127ba51342e",
   "metadata": {},
   "outputs": [],
   "source": [
    "a=\"nistant\""
   ]
  },
  {
   "cell_type": "code",
   "execution_count": 5,
   "id": "5181033e-69a6-44e0-a207-6d92bc4e74ea",
   "metadata": {},
   "outputs": [
    {
     "data": {
      "text/plain": [
       "str"
      ]
     },
     "execution_count": 5,
     "metadata": {},
     "output_type": "execute_result"
    }
   ],
   "source": [
    "type(a)"
   ]
  },
  {
   "cell_type": "code",
   "execution_count": 8,
   "id": "7948aa88-5fca-4c7a-bcdc-c6f7afdc3161",
   "metadata": {},
   "outputs": [],
   "source": [
    "list1=[1,2,3,\"nish\", 2.3]"
   ]
  },
  {
   "cell_type": "code",
   "execution_count": 9,
   "id": "1d9dfb80-a93d-4b30-9deb-9a8107f5e1c0",
   "metadata": {},
   "outputs": [
    {
     "data": {
      "text/plain": [
       "list"
      ]
     },
     "execution_count": 9,
     "metadata": {},
     "output_type": "execute_result"
    }
   ],
   "source": [
    "type(list1)"
   ]
  },
  {
   "cell_type": "code",
   "execution_count": 12,
   "id": "dbfc0af0-f793-4306-b5a8-4bc84e9a5341",
   "metadata": {},
   "outputs": [
    {
     "name": "stdout",
     "output_type": "stream",
     "text": [
      "[1, 2, 3, 'nish', 2.3]\n"
     ]
    }
   ],
   "source": [
    "print(list1)"
   ]
  },
  {
   "cell_type": "code",
   "execution_count": 13,
   "id": "4bb23875-034b-4192-ab8d-d4d0293424a6",
   "metadata": {},
   "outputs": [
    {
     "name": "stdout",
     "output_type": "stream",
     "text": [
      "<class 'list'>\n"
     ]
    }
   ],
   "source": [
    "print (type(list1))"
   ]
  },
  {
   "cell_type": "code",
   "execution_count": 16,
   "id": "f3e63420-e1b8-4c29-bf86-aeacf3989a99",
   "metadata": {},
   "outputs": [
    {
     "name": "stdout",
     "output_type": "stream",
     "text": [
      "<class 'int'>\n",
      "<class 'int'>\n",
      "<class 'int'>\n",
      "<class 'str'>\n",
      "<class 'float'>\n"
     ]
    }
   ],
   "source": [
    "for i in list1:\n",
    "    print (type(i))"
   ]
  },
  {
   "cell_type": "code",
   "execution_count": 17,
   "id": "082c0b99-f246-420f-aa86-f03514b0e589",
   "metadata": {},
   "outputs": [],
   "source": [
    "alpha= 3.2"
   ]
  },
  {
   "cell_type": "code",
   "execution_count": 18,
   "id": "34c42d51-973c-4615-8ec1-eb731c9e4cb0",
   "metadata": {},
   "outputs": [
    {
     "data": {
      "text/plain": [
       "float"
      ]
     },
     "execution_count": 18,
     "metadata": {},
     "output_type": "execute_result"
    }
   ],
   "source": [
    "type(alpha)"
   ]
  },
  {
   "cell_type": "code",
   "execution_count": 22,
   "id": "d2f10e17-2a00-41e4-9f05-457b48e37942",
   "metadata": {},
   "outputs": [],
   "source": [
    "z={\"a\",\"fdg\",34,22,2,3.4}"
   ]
  },
  {
   "cell_type": "code",
   "execution_count": 23,
   "id": "667fce19-2776-44b5-95b2-004f5495d34c",
   "metadata": {},
   "outputs": [
    {
     "data": {
      "text/plain": [
       "set"
      ]
     },
     "execution_count": 23,
     "metadata": {},
     "output_type": "execute_result"
    }
   ],
   "source": [
    "type(z)"
   ]
  },
  {
   "cell_type": "code",
   "execution_count": 24,
   "id": "60a1d407-73cb-4ab2-9a01-db94b8e727a8",
   "metadata": {},
   "outputs": [],
   "source": [
    "H = (\"Bj\",\"nn\",21,12,32,4.4)"
   ]
  },
  {
   "cell_type": "code",
   "execution_count": 25,
   "id": "94fdf7d3-6ae1-44e7-a44a-348a7650fccb",
   "metadata": {},
   "outputs": [
    {
     "data": {
      "text/plain": [
       "tuple"
      ]
     },
     "execution_count": 25,
     "metadata": {},
     "output_type": "execute_result"
    }
   ],
   "source": [
    "type(H)"
   ]
  },
  {
   "cell_type": "code",
   "execution_count": 26,
   "id": "6351141b-5448-4876-bbea-5816dcd702f6",
   "metadata": {},
   "outputs": [],
   "source": [
    "var1=''"
   ]
  },
  {
   "cell_type": "code",
   "execution_count": 27,
   "id": "40117c2d-cf63-472c-bf1b-5eb19fb3a146",
   "metadata": {},
   "outputs": [
    {
     "data": {
      "text/plain": [
       "str"
      ]
     },
     "execution_count": 27,
     "metadata": {},
     "output_type": "execute_result"
    }
   ],
   "source": [
    "type(var1)"
   ]
  },
  {
   "cell_type": "code",
   "execution_count": 28,
   "id": "5253d667-7876-48f8-9de7-790a5e3e6cfd",
   "metadata": {},
   "outputs": [],
   "source": [
    "var2='[DS,ML,python]'"
   ]
  },
  {
   "cell_type": "code",
   "execution_count": 29,
   "id": "33b6e73c-93cc-430d-a938-a20ea2386b95",
   "metadata": {},
   "outputs": [
    {
     "data": {
      "text/plain": [
       "str"
      ]
     },
     "execution_count": 29,
     "metadata": {},
     "output_type": "execute_result"
    }
   ],
   "source": [
    "type(var2)"
   ]
  },
  {
   "cell_type": "code",
   "execution_count": 30,
   "id": "7e592e44-d992-4647-b109-feffa268a80f",
   "metadata": {},
   "outputs": [],
   "source": [
    "var3=['DS','ML','Python']"
   ]
  },
  {
   "cell_type": "code",
   "execution_count": 31,
   "id": "7937bbcc-5212-487d-bbc6-9ece30c96ad0",
   "metadata": {},
   "outputs": [
    {
     "data": {
      "text/plain": [
       "list"
      ]
     },
     "execution_count": 31,
     "metadata": {},
     "output_type": "execute_result"
    }
   ],
   "source": [
    "type(var3)"
   ]
  },
  {
   "cell_type": "code",
   "execution_count": 32,
   "id": "3e360c83-6b07-495f-97ef-59825ca9c59a",
   "metadata": {},
   "outputs": [],
   "source": [
    "var4=1"
   ]
  },
  {
   "cell_type": "code",
   "execution_count": 33,
   "id": "9932b870-0695-4555-b7b2-2a781decbcaf",
   "metadata": {},
   "outputs": [
    {
     "data": {
      "text/plain": [
       "int"
      ]
     },
     "execution_count": 33,
     "metadata": {},
     "output_type": "execute_result"
    }
   ],
   "source": [
    "type(var4)"
   ]
  },
  {
   "cell_type": "code",
   "execution_count": null,
   "id": "c4ff930a-8406-4668-9987-a8b6f4de86b8",
   "metadata": {},
   "outputs": [],
   "source": []
  }
 ],
 "metadata": {
  "kernelspec": {
   "display_name": "Python 3 (ipykernel)",
   "language": "python",
   "name": "python3"
  },
  "language_info": {
   "codemirror_mode": {
    "name": "ipython",
    "version": 3
   },
   "file_extension": ".py",
   "mimetype": "text/x-python",
   "name": "python",
   "nbconvert_exporter": "python",
   "pygments_lexer": "ipython3",
   "version": "3.10.8"
  }
 },
 "nbformat": 4,
 "nbformat_minor": 5
}
